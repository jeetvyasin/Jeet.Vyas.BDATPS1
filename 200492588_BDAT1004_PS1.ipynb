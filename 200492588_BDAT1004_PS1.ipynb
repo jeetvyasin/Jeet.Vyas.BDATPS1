{
 "cells": [
  {
   "cell_type": "markdown",
   "id": "14a6b7e9",
   "metadata": {},
   "source": [
    "### This notebook contains solution for Problem set 1."
   ]
  },
  {
   "cell_type": "markdown",
   "id": "b08ba5fb",
   "metadata": {},
   "source": [
    "## Question 1"
   ]
  },
  {
   "cell_type": "code",
   "execution_count": 2,
   "id": "82d28f99",
   "metadata": {},
   "outputs": [
    {
     "name": "stdout",
     "output_type": "stream",
     "text": [
      "<class 'int'>\n",
      "<class 'float'>\n",
      "<class 'bool'>\n",
      "<class 'str'>\n",
      "<class 'int'>\n",
      "<class 'str'>\n",
      "<class 'str'>\n",
      "<class 'float'>\n",
      "<class 'int'>\n",
      "<class 'set'>\n",
      "<class 'bool'>\n",
      "<class 'float'>\n"
     ]
    }
   ],
   "source": [
    "print(type(5))\n",
    "print(type(5.0))\n",
    "print(type(5 > 1))\n",
    "print(type('5'))\n",
    "print(type(5 * 2))\n",
    "print(type('5' * 2))\n",
    "print(type('5' + '2'))\n",
    "print(type(5/2))\n",
    "print(type(5%2))\n",
    "print(type({5,2,1}))\n",
    "print(type(5==3))\n",
    "print(type(3.14))"
   ]
  },
  {
   "cell_type": "markdown",
   "id": "d85b6e68",
   "metadata": {},
   "source": [
    "## Question 2"
   ]
  },
  {
   "cell_type": "code",
   "execution_count": 3,
   "id": "d1a78a67",
   "metadata": {},
   "outputs": [
    {
     "data": {
      "text/plain": [
       "34"
      ]
     },
     "execution_count": 3,
     "metadata": {},
     "output_type": "execute_result"
    }
   ],
   "source": [
    "# A)\n",
    "letterString = \"Supercalifragilisticexpialidocious\"\n",
    "len(letterString)"
   ]
  },
  {
   "cell_type": "code",
   "execution_count": 4,
   "id": "a086ec36",
   "metadata": {},
   "outputs": [
    {
     "name": "stdout",
     "output_type": "stream",
     "text": [
      "18\n"
     ]
    }
   ],
   "source": [
    "# B)\n",
    "print(letterString.index(\"ice\"))"
   ]
  },
  {
   "cell_type": "markdown",
   "id": "b68a06a9",
   "metadata": {},
   "source": [
    "We got the index 18, which means it is present."
   ]
  },
  {
   "cell_type": "code",
   "execution_count": 5,
   "id": "f3d8da2a",
   "metadata": {},
   "outputs": [
    {
     "name": "stdout",
     "output_type": "stream",
     "text": [
      "word3\n"
     ]
    }
   ],
   "source": [
    "# C)\n",
    "word1 = \"Supercalifragilisticexpialidocious\"\n",
    "word2 = \"Honorificabilitudinitatibus\"\n",
    "word3 = \"Bababadalgharaghtakamminarronnkonn\"\n",
    "\n",
    "if len(word1) > len(word2):\n",
    "    if len(word1) > len(word3):\n",
    "        print(\"word1\")\n",
    "    else:\n",
    "        print(\"word3\")\n",
    "else:\n",
    "    if len(word2) > len(word3):\n",
    "        print(\"word2\")\n",
    "    else:\n",
    "        print(\"word3\")"
   ]
  },
  {
   "cell_type": "markdown",
   "id": "33d284dc",
   "metadata": {},
   "source": [
    "D) Which composer comes first in the dictionary: 'Berlioz', 'Borodin', 'Brian', 'Bartok', 'Bellini', 'Buxtehude', 'Bernstein'. Which one comes last?\n",
    "\n",
    "--> 'Bartok' comes first in the dictionary and 'Buxtehude' comes last.\n",
    "\n",
    "\n"
   ]
  },
  {
   "cell_type": "markdown",
   "id": "66742d84",
   "metadata": {},
   "source": [
    "## Question 3"
   ]
  },
  {
   "cell_type": "code",
   "execution_count": 6,
   "id": "8ba42d13",
   "metadata": {},
   "outputs": [
    {
     "data": {
      "text/plain": [
       "1.7320508075688772"
      ]
     },
     "execution_count": 6,
     "metadata": {},
     "output_type": "execute_result"
    }
   ],
   "source": [
    "import math \n",
    "\n",
    "def triangleArea(a,b,c):\n",
    "    s = (a+b+c)/2\n",
    "    \n",
    "    term = s * (s-a) * (s-b) * (s-c) \n",
    "    answer = math.sqrt(term)\n",
    "    \n",
    "    return answer\n",
    "    \n",
    "triangleArea(2,2,2)"
   ]
  },
  {
   "cell_type": "markdown",
   "id": "0c4adbbb",
   "metadata": {},
   "source": [
    "## Question 4"
   ]
  },
  {
   "cell_type": "code",
   "execution_count": 7,
   "id": "444a575d",
   "metadata": {},
   "outputs": [
    {
     "name": "stdout",
     "output_type": "stream",
     "text": [
      "Enter 5 number\n",
      "1\n",
      "2\n",
      "3\n",
      "4\n",
      "5\n",
      "Even elements are:\n",
      "[2, 4]\n",
      "Odd elements are:\n",
      "[1, 3, 5]\n"
     ]
    }
   ],
   "source": [
    "print(\"Enter 5 number\")\n",
    "lst = []\n",
    "\n",
    "even = []\n",
    "odd = []\n",
    "\n",
    "# iterating till the range\n",
    "for i in range(0, 5):\n",
    "    ele = int(input())\n",
    "    \n",
    "    if ele % 2 == 0:\n",
    "        even.append(ele)\n",
    "    else:\n",
    "        odd.append(ele)\n",
    "      \n",
    "print(\"Even elements are:\")\n",
    "print(even)\n",
    "print(\"Odd elements are:\")\n",
    "print(odd)\n",
    "\n"
   ]
  },
  {
   "cell_type": "markdown",
   "id": "fe6cfeb7",
   "metadata": {},
   "source": [
    "## Question 5"
   ]
  },
  {
   "cell_type": "code",
   "execution_count": 8,
   "id": "7d06bc4a",
   "metadata": {},
   "outputs": [
    {
     "data": {
      "text/plain": [
       "True"
      ]
     },
     "execution_count": 8,
     "metadata": {},
     "output_type": "execute_result"
    }
   ],
   "source": [
    "# A)\n",
    "def insideFunction(x,y,x1,y1,x2,y2):\n",
    "     if (x > x1 and x < x2 and\n",
    "        y > y1 and y < y2) :\n",
    "        return True\n",
    "     else :\n",
    "        return False\n",
    "    \n",
    "insideFunction(1,1,0,0,2,3)"
   ]
  },
  {
   "cell_type": "code",
   "execution_count": 9,
   "id": "8a286e82",
   "metadata": {},
   "outputs": [
    {
     "name": "stdout",
     "output_type": "stream",
     "text": [
      "False\n",
      "True\n"
     ]
    }
   ],
   "source": [
    "# B)\n",
    "print(insideFunction(1,1,0.3,0.5,1.1,0.7))\n",
    "print(insideFunction(1,1,0.5,0.2,1.1,2))"
   ]
  },
  {
   "cell_type": "markdown",
   "id": "3c01532d",
   "metadata": {},
   "source": [
    "## Question 6"
   ]
  },
  {
   "cell_type": "code",
   "execution_count": 10,
   "id": "ab334b1b",
   "metadata": {},
   "outputs": [
    {
     "name": "stdout",
     "output_type": "stream",
     "text": [
      "appyhay\n"
     ]
    }
   ],
   "source": [
    "def pig(word):\n",
    "    lowerWord = word.lower()\n",
    "    vowerList = ['a', 'e', 'i', 'o', 'u']\n",
    "    newWord = \"\"\n",
    "    if word[0] in vowerList:\n",
    "        newWord = lowerWord + \"way\"\n",
    "    else:\n",
    "        word = word + word[0] + \"ay\"\n",
    "        newWord = word[1:]\n",
    "        \n",
    "    print(newWord)\n",
    "pig(\"happy\")"
   ]
  },
  {
   "cell_type": "markdown",
   "id": "cc849d20",
   "metadata": {},
   "source": [
    "## Question 7"
   ]
  },
  {
   "cell_type": "code",
   "execution_count": 11,
   "id": "c5d55dac",
   "metadata": {},
   "outputs": [
    {
     "name": "stdout",
     "output_type": "stream",
     "text": [
      "There are 15 patients of blood type A.\n",
      "There are 13 patients of blood type AB.\n",
      "There are 15 patients of blood type O.\n",
      "There are 1 patients of blood type B.\n",
      "There are 0 patients of blood type OO.\n"
     ]
    }
   ],
   "source": [
    "def bldcount(fileName):\n",
    "    \n",
    "    f = open(fileName, \"r\")\n",
    "    text = f.read()\n",
    "    \n",
    "    wordList = text.split(\" \") \n",
    "    \n",
    "          \n",
    "    print(\"There are\", wordList.count('A'), \"patients of blood type A.\")\n",
    "    print(\"There are\", wordList.count('AB'), \"patients of blood type AB.\")\n",
    "    print(\"There are\", wordList.count('O'), \"patients of blood type O.\")\n",
    "    print(\"There are\", wordList.count('B'), \"patients of blood type B.\")\n",
    "    print(\"There are\", wordList.count('OO'), \"patients of blood type OO.\")\n",
    "    \n",
    "bldcount('bloodtype.txt')"
   ]
  },
  {
   "cell_type": "markdown",
   "id": "47012b23",
   "metadata": {},
   "source": [
    "## Question 8"
   ]
  },
  {
   "cell_type": "code",
   "execution_count": 12,
   "id": "2f78ca6f",
   "metadata": {},
   "outputs": [
    {
     "name": "stdout",
     "output_type": "stream",
     "text": [
      "122.96544\n"
     ]
    }
   ],
   "source": [
    "def curconv(code, amount):\n",
    "    \n",
    "    dic = dict()\n",
    "    \n",
    "    with open(\"currencies.txt\", \"r\") as a_file:\n",
    "        for line in a_file:\n",
    "            stripped_line = line.strip()\n",
    "            breakLine = stripped_line.split(\" \")\n",
    "            dic[breakLine[0]] = float(breakLine[1])\n",
    "    \n",
    "    dollarValue = dic[code] * amount\n",
    "    \n",
    "    print(dollarValue)\n",
    "    \n",
    "curconv(\"EUR\", 100)\n",
    "    "
   ]
  },
  {
   "cell_type": "markdown",
   "id": "9180cbef",
   "metadata": {},
   "source": [
    "## Question 9"
   ]
  },
  {
   "cell_type": "markdown",
   "id": "d7482af2",
   "metadata": {},
   "source": [
    "##### Trying to add incompatible variables, as in adding 6 + ‘a’\n",
    "\n",
    "--> This will cause an error that you can not add string and int with each other.\n"
   ]
  },
  {
   "cell_type": "markdown",
   "id": "02463c84",
   "metadata": {},
   "source": [
    "#### Referring to the 12th item of a list that has only 10 items\n",
    "\n",
    "--> IndexError, list index out of range\n"
   ]
  },
  {
   "cell_type": "markdown",
   "id": "02b0cd70",
   "metadata": {},
   "source": [
    "#### Using a value that is out of range for a function’s input, such as calling math.sqrt(-1.0)\n",
    "\n",
    "\n",
    "--> ValueError, math domain error."
   ]
  },
  {
   "cell_type": "markdown",
   "id": "d6d973c1",
   "metadata": {},
   "source": [
    "#### Using an undeclared variable, such as print(x) when x has not been defined \n",
    "\n",
    "--> NameError, name 'vairable name' is not defined."
   ]
  },
  {
   "cell_type": "markdown",
   "id": "c63cdaf5",
   "metadata": {},
   "source": [
    "#### Trying to open a file that does not exist, such as mistyping the file name or looking in the wrong directory. \n",
    "\n",
    "--> FileNotFoundError, No such file or directory: fileName"
   ]
  },
  {
   "cell_type": "markdown",
   "id": "9032c6a7",
   "metadata": {},
   "source": [
    "## Question 10"
   ]
  },
  {
   "cell_type": "code",
   "execution_count": 13,
   "id": "93e63af9",
   "metadata": {},
   "outputs": [
    {
     "name": "stdout",
     "output_type": "stream",
     "text": [
      "[1, 0, 0, 0, 1, 0, 0, 0, 0, 0, 0, 1, 0, 0, 0, 2, 0, 0, 0, 0, 0, 0, 0, 0, 0, 0]\n"
     ]
    }
   ],
   "source": [
    "def frequencies(text):\n",
    "    \n",
    "    encrypt = \"abcdefghijklmnopqrstuvwxyz\"\n",
    "    encyptedList = []\n",
    "    \n",
    "    for char in encrypt:\n",
    "        encyptedList.append(text.count(char))\n",
    "    \n",
    "    print(encyptedList)\n",
    "    \n",
    "frequencies(\"apple\")"
   ]
  },
  {
   "cell_type": "code",
   "execution_count": null,
   "id": "69aef6ee",
   "metadata": {},
   "outputs": [],
   "source": []
  }
 ],
 "metadata": {
  "kernelspec": {
   "display_name": "Python 3 (ipykernel)",
   "language": "python",
   "name": "python3"
  },
  "language_info": {
   "codemirror_mode": {
    "name": "ipython",
    "version": 3
   },
   "file_extension": ".py",
   "mimetype": "text/x-python",
   "name": "python",
   "nbconvert_exporter": "python",
   "pygments_lexer": "ipython3",
   "version": "3.9.7"
  }
 },
 "nbformat": 4,
 "nbformat_minor": 5
}
